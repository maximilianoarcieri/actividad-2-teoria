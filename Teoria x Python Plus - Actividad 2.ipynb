{
 "cells": [
  {
   "cell_type": "markdown",
   "id": "48686894",
   "metadata": {},
   "source": [
    "**Nombre:** Maximiliano Nahuel Piedras Arcieri\n",
    "# Parte 1\n",
    "## Enunciado Asignado\n",
    "**Enunciado 3:** dado el archivo de registros de jugadas (eventos) de MemPy, mostrar un gráfico que, dada una partida, muestre hasta 5 palabras con las que se jugó  y la cantidad de intentos  necesarios para encontrarlas. Para elegir la partida, deben mostrar los IDs  de partidas existentes en el dataset y solicitar que se ingrese la opción elegida.\n",
    "\n",
    "\n",
    "\n"
   ]
  },
  {
   "cell_type": "code",
   "execution_count": 16,
   "id": "668b9fbc",
   "metadata": {},
   "outputs": [],
   "source": [
    "from matplotlib import pyplot as plt      # se importan las librerías necesarias\n",
    "import pandas as pd                       # para la ejecución del código.\n",
    "import numpy as np\n",
    "import os"
   ]
  },
  {
   "cell_type": "markdown",
   "id": "a522f831",
   "metadata": {},
   "source": [
    "**las siguientes líneas sirven para ubicar el archivo de datos, este debe encontrarse en la misma carpeta que el notebook. En caso contrario, hay que definir una nueva ruta.**"
   ]
  },
  {
   "cell_type": "code",
   "execution_count": 6,
   "id": "7b01a570",
   "metadata": {},
   "outputs": [],
   "source": [
    "ruta = os.getcwd() + os.sep            # ruta donde se ejecuta el código\n",
    "nombre_archivo = 'datos_prueba.csv'    # nombre del dataset que se está trabajando\n",
    "ruta_archivo = ruta + nombre_archivo   # ruta directa para ubicar el archivo"
   ]
  },
  {
   "cell_type": "markdown",
   "id": "da83b1da",
   "metadata": {},
   "source": [
    "**se utiliza un gráfico de barras apiladas ya que permite interpretar mejor la correspondencia entre una palabra, los intentos fallidos que hubo y si finalmente se encontró. También facilita la comparación con otras palabras.**"
   ]
  },
  {
   "cell_type": "code",
   "execution_count": 13,
   "id": "f6daa068",
   "metadata": {},
   "outputs": [],
   "source": [
    "def cargar_grafico(datos):\n",
    "    '''Esta función recibe los datos que se van a mostrar en el gráfico y con\n",
    "    ello define las diferentes configuraciones propias del gráfico de barras.'''\n",
    "\n",
    "    etiquetas = []         # voy agregando las etiquetas a medida que compruebo que no sean más de 5\n",
    "\n",
    "    fallos = []            # la barra inferior indica la cantidad de intetnos fallidos\n",
    "    correctas = []         # la barra superior indica que se encontró (será un solo intento siempre)\n",
    "\n",
    "    for key, intentos in zip(datos.keys(), datos.values):    # para cada par de clave (palabra y estado) se comprueba si fue un error\n",
    "        if len(etiquetas) != 5:                              # o si se encontró, en base a esto se van completando la lista de etiquetas,\n",
    "            if not key[0] in etiquetas:                      # intentos fallidos y si se encontró o no. \n",
    "                etiquetas.append(key[0])\n",
    "\n",
    "            if key[1] == 'error':                            # las siguientes validaciones se hacen para que las listas de fallos\n",
    "                fallos.append(intentos)                      # y correctas no queden de distintos tamaños, sino daría un fallo.\n",
    "                if len(fallos) > len(correctas)+1:\n",
    "                    correctas.append(0)\n",
    "            else:\n",
    "                if len(fallos) == len(correctas):\n",
    "                    fallos.append(0)\n",
    "                correctas.append(1)\n",
    "        else:\n",
    "            if key[0] == etiquetas[-1]:\n",
    "                correctas.append(1)                \n",
    "            else:\n",
    "                break\n",
    "\n",
    "    indice = np.arange(len(etiquetas))\n",
    "\n",
    "    # creo barras base\n",
    "    plt.bar(indice, fallos, label='Intento fallido')\n",
    "\n",
    "    # creo barras superiores\n",
    "    plt.bar(indice, correctas, label='Intento correcto', bottom=fallos)\n",
    "\n",
    "    # defino \n",
    "    plt.xticks(indice, etiquetas)\n",
    "    plt.ylabel(\"Intentos\")\n",
    "    plt.xlabel(\"Palabras\")\n",
    "    plt.title('Intentos fallidos por palabras y si se encontró')\n",
    "    plt.legend('Grafico de Teoría x Python Plus')\n",
    "\n",
    "    plt.show()"
   ]
  },
  {
   "cell_type": "markdown",
   "id": "483af9b4",
   "metadata": {},
   "source": [
    "**en esta función principal, la solicitud para elegir un número de partida se vuelve a ejecutar si el usuario ingresa un número que no se corresponde con una partida u otro tipo de dato no numérico.**"
   ]
  },
  {
   "cell_type": "code",
   "execution_count": 19,
   "id": "1644da47",
   "metadata": {},
   "outputs": [],
   "source": [
    "def main():\n",
    "    '''Funcion principal donde se leen los datos a trabajar, se muestran los IDs de partidas\n",
    "    disponibles para elegir y se pide una elección. En base a la elección, se filtran los\n",
    "    eventos de esa partida, se agrupa por palabras y se obtiene la cantidad de intentos que\n",
    "    se necesitaron para encontrar los pares de fichas.'''\n",
    "\n",
    "    try:\n",
    "        df_datos = pd.read_csv(f\"{ruta_archivo}\")\n",
    "\n",
    "        partidas_existentes = df_datos['Partida'].unique().tolist()\n",
    "        print('IDs de partidas existentes: ', partidas_existentes)\n",
    "        print()\n",
    "        \n",
    "        while True:\n",
    "            try:\n",
    "                id_partida = int(input('Seleccione sobre qué partida mostrar los datos: '))\n",
    "                if id_partida not in partidas_existentes:\n",
    "                    raise ValueError\n",
    "                else:\n",
    "                    break\n",
    "            except ValueError:\n",
    "                print('El valor ingresado es incorrecto o está fuera de rango, pruebe con otro.')\n",
    "                print('-' * 75)\n",
    "\n",
    "        datos = df_datos[df_datos['Partida'] == id_partida].groupby(['Palabra', 'Estado ']).size()\n",
    "\n",
    "        cargar_grafico(datos)\n",
    "        \n",
    "    except FileNotFoundError:\n",
    "        print(f\"No se encontro la ruta del archivo en: {ruta_archivo}\")"
   ]
  },
  {
   "cell_type": "code",
   "execution_count": 23,
   "id": "df3295dd",
   "metadata": {},
   "outputs": [],
   "source": [
    "main()      # llamado al método main para iniciar la ejecución del programa"
   ]
  }
 ],
 "metadata": {
  "kernelspec": {
   "display_name": "Python 3",
   "language": "python",
   "name": "python3"
  },
  "language_info": {
   "codemirror_mode": {
    "name": "ipython",
    "version": 3
   },
   "file_extension": ".py",
   "mimetype": "text/x-python",
   "name": "python",
   "nbconvert_exporter": "python",
   "pygments_lexer": "ipython3",
   "version": "3.8.8"
  }
 },
 "nbformat": 4,
 "nbformat_minor": 5
}
